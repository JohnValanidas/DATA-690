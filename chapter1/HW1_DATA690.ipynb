{
 "cells": [
  {
   "cell_type": "code",
   "execution_count": 24,
   "id": "5d810200",
   "metadata": {},
   "outputs": [
    {
     "name": "stdout",
     "output_type": "stream",
     "text": [
      "Torch Device: cuda\n"
     ]
    }
   ],
   "source": [
    "import torch\n",
    "import timeit \n",
    "import matplotlib.pyplot as plt\n",
    "import numpy as np\n",
    "\n",
    "torch.manual_seed(1)\n",
    "\n",
    "device = torch.device(\"cpu\")\n",
    "\n",
    "if(torch.cuda.is_available()):\n",
    "    device = torch.device(\"cuda\")\n",
    "\n",
    "print(f\"Torch Device: {device}\")"
   ]
  },
  {
   "cell_type": "markdown",
   "id": "acfd27a5",
   "metadata": {},
   "source": [
    "### Question 1\n",
    "\n",
    "Write a series of `for` loops that compute the average value in `torch_tensor3d`.\n",
    "\n",
    "I'm assuiming here that you by a manual means and not something like `torch.mean`"
   ]
  },
  {
   "cell_type": "code",
   "execution_count": 2,
   "id": "c9b99d67",
   "metadata": {},
   "outputs": [
    {
     "name": "stdout",
     "output_type": "stream",
     "text": [
      "tensor([[[0.7576, 0.2793, 0.4031],\n",
      "         [0.7347, 0.0293, 0.7999],\n",
      "         [0.3971, 0.7544, 0.5695]],\n",
      "\n",
      "        [[0.4388, 0.6387, 0.5247],\n",
      "         [0.6826, 0.3051, 0.4635],\n",
      "         [0.4550, 0.5725, 0.4980]],\n",
      "\n",
      "        [[0.9371, 0.6556, 0.3138],\n",
      "         [0.1980, 0.4162, 0.2843],\n",
      "         [0.3398, 0.5239, 0.7981]]])\n",
      "Manual Mean calculated result: 0.5100202560424805\n",
      "Torch Mean calculated result: 0.5100201964378357\n"
     ]
    }
   ],
   "source": [
    "example_tensor = torch.rand(3,3,3)\n",
    "print(example_tensor)\n",
    "\n",
    "manual_mean = 0\n",
    "elements = torch.numel(example_tensor)\n",
    "\n",
    "x, y, z = example_tensor.shape\n",
    "\n",
    "for i in range(x):\n",
    "    for j in range(y):\n",
    "        for k in range(z):\n",
    "            manual_mean += example_tensor[i][j][k]/elements\n",
    "            \n",
    "print(f\"Manual Mean calculated result: {manual_mean}\")\n",
    "\n",
    "\n",
    "torch_mean = torch.mean(example_tensor)\n",
    "print(f\"Torch Mean calculated result: {torch_mean}\")"
   ]
  },
  {
   "cell_type": "markdown",
   "id": "0edcf580",
   "metadata": {},
   "source": [
    "### Question 2\n",
    "\n",
    "Write code that indexes into torch_tensor3d and prints out the value 13. \n",
    "\n",
    "\n",
    "__I'll be honest here ~ I don't exactly know what this question is asking, Maybe I'm being EXTRA dumb, but I don't see any other solution__"
   ]
  },
  {
   "cell_type": "code",
   "execution_count": 41,
   "id": "e7e62638",
   "metadata": {},
   "outputs": [
    {
     "name": "stdout",
     "output_type": "stream",
     "text": [
      "tensor(0.8048)\n",
      "tensor(13.)\n"
     ]
    }
   ],
   "source": [
    "example_tensor = torch.rand(20,20,20)\n",
    "\n",
    "print(example_tensor[0][0][0])\n",
    "\n",
    "example_tensor[0][0][0] = 13\n",
    "\n",
    "print(example_tensor[0][0][0])"
   ]
  },
  {
   "cell_type": "markdown",
   "id": "f57b9b8a",
   "metadata": {},
   "source": [
    "### Question 3\n",
    "\n",
    "For every power of 2 (i.e., 2i or 2**i ) up to 2^11, create a random matrix X ∈ ℝ2i, 2i (i.e., X.shape should give (2**i, 2**i)). Time how long it takes to compute XX (i.e., X @ X) on a CPU and on a GPU, and plot the speedup. For what matrix sizes is the CPU faster than the GPU? "
   ]
  },
  {
   "cell_type": "code",
   "execution_count": 37,
   "id": "b7ae70ec",
   "metadata": {},
   "outputs": [
    {
     "name": "stdout",
     "output_type": "stream",
     "text": [
      "Is Cuda avalaible? YES\n",
      "CPU is faster than GPU until a power size of 8\n"
     ]
    },
    {
     "data": {
      "image/png": "[encoded data removed]",
      "text/plain": [
       "<Figure size 432x288 with 1 Axes>"
      ]
     },
     "metadata": {
      "needs_background": "light"
     },
     "output_type": "display_data"
    }
   ],
   "source": [
    "print(\"Is Cuda avalaible?\", \"YES\" if torch.cuda.is_available() else \"NO\")\n",
    "\n",
    "powers = []\n",
    "cpu_times = []\n",
    "gpu_times = []\n",
    "\n",
    "\n",
    "for i in range(12):\n",
    "    x = torch.rand(2**i, 2**i)\n",
    "    y = torch.rand(2**i, 2**i).to(device)\n",
    "    cpu_time = timeit.timeit(\"x@x\", globals=globals(), number=100)\n",
    "    gpu_time = timeit.timeit(\"y@y\", globals=globals(), number=100)\n",
    "    cpu_times.append(cpu_time)\n",
    "    gpu_times.append(gpu_time)\n",
    "    powers.append(i)\n",
    "    \n",
    "fastest_size = 0\n",
    "while (cpu_times[fastest_size] < gpu_times[fastest_size]):\n",
    "    fastest_size += 1\n",
    "    \n",
    "print(f\"CPU is faster than GPU until a power size of {fastest_size + 1}\")\n",
    "\n",
    "plt.scatter(powers, cpu_times, label=\"CPU\")\n",
    "plt.scatter(powers, gpu_times, label=\"GPU\")\n",
    "plt.legend(loc=\"upper left\")\n",
    "plt.xlabel('Powers of 2')\n",
    "plt.ylabel(\"Time (seconds)\")\n",
    "plt.show()"
   ]
  },
  {
   "cell_type": "markdown",
   "id": "a87e962e",
   "metadata": {},
   "source": [
    "### Question 5\n",
    "\n",
    "Write a new function that takes two inputs, x and y, where f(x, y) = exp (sin(x)2)/(x−y)2 + (x−y)2 Use an Optimizer with initial parameter values of x = 0.2 and y = 10. What do they converge to? "
   ]
  },
  {
   "cell_type": "code",
   "execution_count": 6,
   "id": "edce0888",
   "metadata": {},
   "outputs": [
    {
     "name": "stdout",
     "output_type": "stream",
     "text": [
      "X:  tensor([3.1418])\n",
      "Y:  tensor([4.1418])\n"
     ]
    }
   ],
   "source": [
    "def f(x, y):\n",
    "    return (torch.exp(torch.pow(torch.sin(x), 2))/torch.pow(x-y, 2)) + torch.pow(x-y, 2)\n",
    "\n",
    "x_param = torch.nn.Parameter(torch.tensor([0.2]), requires_grad=True)\n",
    "y_param = torch.nn.Parameter(torch.tensor([10.0]), requires_grad=True)\n",
    "\n",
    "learning_rate = .001\n",
    "\n",
    "params = [x_param, y_param]\n",
    "\n",
    "optimizer = torch.optim.SGD(params, lr=learning_rate)\n",
    "\n",
    "\n",
    "for epoch in range(100000):\n",
    "    optimizer.zero_grad()\n",
    "    loss_incurred = f(x_param, y_param).to(device)\n",
    "    loss_incurred.backward() \n",
    "    optimizer.step()\n",
    "\n",
    "print(\"X: \", x_param.data)\n",
    "print(\"Y: \", y_param.data)"
   ]
  },
  {
   "cell_type": "code",
   "execution_count": null,
   "id": "abcdb94a",
   "metadata": {},
   "outputs": [],
   "source": []
  }
 ],
 "metadata": {
  "kernelspec": {
   "display_name": "Python 3 (ipykernel)",
   "language": "python",
   "name": "python3"
  },
  "language_info": {
   "codemirror_mode": {
    "name": "ipython",
    "version": 3
   },
   "file_extension": ".py",
   "mimetype": "text/x-python",
   "name": "python",
   "nbconvert_exporter": "python",
   "pygments_lexer": "ipython3",
   "version": "3.9.7"
  }
 },
 "nbformat": 4,
 "nbformat_minor": 5
}
