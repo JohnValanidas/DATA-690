{
 "cells": [
  {
   "cell_type": "code",
   "execution_count": 4,
   "id": "9de125a3",
   "metadata": {},
   "outputs": [],
   "source": [
    "import torch\n",
    "import numpy as np \n",
    "\n",
    "torch_scalar = torch.tensor(3.14) \n",
    "torch_vector = torch.tensor([1, 2, 3, 4]) \n",
    "torch_matrix = torch.tensor([[1, 2,], \n",
    "                             [3, 4,], \n",
    "                             [5, 6,], \n",
    "                             [7, 8,]])\n",
    "torch_tensor3d = torch.tensor([ \n",
    "                             [ \n",
    "                             [ 1, 2, 3], \n",
    "                             [ 4, 5, 6], \n",
    "                             ], \n",
    "                             [ \n",
    "                             [ 7, 8, 9], \n",
    "                             [10, 11, 12], \n",
    "                             ], \n",
    "                             [ \n",
    "                             [13, 14, 15], \n",
    "                             [16, 17, 18], \n",
    "                             ], \n",
    "                             [\n",
    "                             [19, 20, 21],\n",
    "                             [22, 23, 24],\n",
    "                             ] \n",
    "                               ])"
   ]
  },
  {
   "cell_type": "code",
   "execution_count": 5,
   "id": "de47643e",
   "metadata": {},
   "outputs": [
    {
     "name": "stdout",
     "output_type": "stream",
     "text": [
      "torch.Size([])\n",
      "torch.Size([4])\n",
      "torch.Size([4, 2])\n",
      "torch.Size([4, 2, 3])\n"
     ]
    },
    {
     "data": {
      "text/plain": [
       "torch.Size([4, 2, 3])"
      ]
     },
     "execution_count": 5,
     "metadata": {},
     "output_type": "execute_result"
    }
   ],
   "source": [
    "print(torch_scalar.shape) \n",
    "print(torch_vector.shape) \n",
    "print(torch_matrix.shape) \n",
    "print(torch_tensor3d.shape)\n",
    "\n",
    "torch.Size([]) \n",
    "torch.Size([4]) \n",
    "torch.Size([4, 2]) \n",
    "torch.Size([4, 2, 3])"
   ]
  },
  {
   "cell_type": "code",
   "execution_count": 6,
   "id": "aea61808",
   "metadata": {},
   "outputs": [
    {
     "name": "stdout",
     "output_type": "stream",
     "text": [
      "[[0.36274766 0.35083073 0.10924672 0.05578504]\n",
      " [0.69158577 0.33920569 0.27867026 0.4526325 ]\n",
      " [0.44735423 0.67018699 0.18425251 0.13015928]\n",
      " [0.56967513 0.45635576 0.31596876 0.58857576]]\n",
      "tensor([[0.3627, 0.3508, 0.1092, 0.0558],\n",
      "        [0.6916, 0.3392, 0.2787, 0.4526],\n",
      "        [0.4474, 0.6702, 0.1843, 0.1302],\n",
      "        [0.5697, 0.4564, 0.3160, 0.5886]], dtype=torch.float64)\n"
     ]
    }
   ],
   "source": [
    "x_np = np.random.random((4,4)) \n",
    "print(x_np) \n",
    "\n",
    "\n",
    "x_pt = torch.tensor(x_np) \n",
    "print(x_pt) "
   ]
  },
  {
   "cell_type": "code",
   "execution_count": 7,
   "id": "a44ed9fd",
   "metadata": {},
   "outputs": [],
   "source": [
    "import timeit \n",
    "x = torch.rand(2**11, 2**11) \n",
    "time_cpu = timeit.timeit(\"x@x\", globals=globals(), number=100)"
   ]
  },
  {
   "cell_type": "code",
   "execution_count": 8,
   "id": "918966f0",
   "metadata": {},
   "outputs": [
    {
     "name": "stdout",
     "output_type": "stream",
     "text": [
      "Is CUDA available? : True\n"
     ]
    }
   ],
   "source": [
    "print(\"Is CUDA available? :\", torch.cuda.is_available()) \n",
    "device = torch.device(\"cuda\") "
   ]
  },
  {
   "cell_type": "code",
   "execution_count": 9,
   "id": "6e9f905f",
   "metadata": {},
   "outputs": [],
   "source": [
    "x = x.to(device) \n",
    "time_gpu = timeit.timeit(\"x@x\", globals=globals(), number=100)"
   ]
  },
  {
   "cell_type": "code",
   "execution_count": 10,
   "id": "64f638e7",
   "metadata": {},
   "outputs": [
    {
     "name": "stdout",
     "output_type": "stream",
     "text": [
      "cpu_time:  1.818700006000654\n",
      "gpu_time:  1.1289531830007036\n"
     ]
    }
   ],
   "source": [
    "print(\"cpu_time: \", time_cpu)\n",
    "print(\"gpu_time: \", time_gpu)"
   ]
  },
  {
   "cell_type": "code",
   "execution_count": 11,
   "id": "8dc1ea78",
   "metadata": {},
   "outputs": [
    {
     "name": "stdout",
     "output_type": "stream",
     "text": [
      "None\n"
     ]
    }
   ],
   "source": [
    "x = torch.tensor([-3.5], requires_grad=True) \n",
    "print(x.grad)"
   ]
  },
  {
   "cell_type": "code",
   "execution_count": 12,
   "id": "4592c1c4",
   "metadata": {},
   "outputs": [],
   "source": [
    "def f(x):\n",
    "    return torch.pow((x-2.0), 2)"
   ]
  },
  {
   "cell_type": "code",
   "execution_count": 13,
   "id": "10459d2c",
   "metadata": {},
   "outputs": [],
   "source": [
    "value = f(x)"
   ]
  },
  {
   "cell_type": "code",
   "execution_count": 14,
   "id": "dd091ce6",
   "metadata": {},
   "outputs": [
    {
     "name": "stdout",
     "output_type": "stream",
     "text": [
      "tensor([30.2500], grad_fn=<PowBackward0>)\n"
     ]
    }
   ],
   "source": [
    "print(value)"
   ]
  },
  {
   "cell_type": "code",
   "execution_count": 15,
   "id": "2371284c",
   "metadata": {},
   "outputs": [
    {
     "name": "stdout",
     "output_type": "stream",
     "text": [
      "tensor([-11.])\n"
     ]
    }
   ],
   "source": [
    "value.backward()\n",
    "print(x.grad)"
   ]
  },
  {
   "cell_type": "code",
   "execution_count": 18,
   "id": "a5b68e7f",
   "metadata": {},
   "outputs": [
    {
     "name": "stdout",
     "output_type": "stream",
     "text": [
      "tensor([-3.5000], requires_grad=True)\n",
      "tensor([-2.4000])\n",
      "tensor([-1.5200])\n",
      "tensor([-0.8160])\n",
      "tensor([-0.2528])\n",
      "tensor([0.1978])\n",
      "tensor([0.5582])\n",
      "tensor([0.8466])\n",
      "tensor([1.0773])\n",
      "tensor([1.2618])\n",
      "tensor([1.4094])\n",
      "tensor([1.5276])\n",
      "tensor([1.6220])\n",
      "tensor([1.6976])\n",
      "tensor([1.7581])\n",
      "tensor([1.8065])\n",
      "tensor([1.8452])\n",
      "tensor([1.8762])\n",
      "tensor([1.9009])\n",
      "tensor([1.9207])\n",
      "tensor([1.9366])\n",
      "tensor([1.9493])\n",
      "tensor([1.9594])\n",
      "tensor([1.9675])\n",
      "tensor([1.9740])\n",
      "tensor([1.9792])\n",
      "tensor([1.9834])\n",
      "tensor([1.9867])\n",
      "tensor([1.9894])\n",
      "tensor([1.9915])\n",
      "tensor([1.9932])\n",
      "tensor([1.9946])\n",
      "tensor([1.9956])\n",
      "tensor([1.9965])\n",
      "tensor([1.9972])\n",
      "tensor([1.9978])\n",
      "tensor([1.9982])\n",
      "tensor([1.9986])\n",
      "tensor([1.9989])\n",
      "tensor([1.9991])\n",
      "tensor([1.9993])\n",
      "tensor([1.9994])\n",
      "tensor([1.9995])\n",
      "tensor([1.9996])\n",
      "tensor([1.9997])\n",
      "tensor([1.9998])\n",
      "tensor([1.9998])\n",
      "tensor([1.9998])\n",
      "tensor([1.9999])\n",
      "tensor([1.9999])\n",
      "tensor([1.9999])\n",
      "tensor([1.9999])\n",
      "tensor([1.9999])\n",
      "tensor([2.0000])\n",
      "tensor([2.0000])\n"
     ]
    }
   ],
   "source": [
    "x = torch.tensor([-3.5], requires_grad=True)\n",
    "\n",
    "x_cur = x.clone() \n",
    "x_prev = x_cur*100\n",
    "\n",
    "epsilon = 1e-5\n",
    "\n",
    "eta = 0.1\n",
    "\n",
    "print(x)\n",
    "\n",
    "while torch.linalg.norm(x_cur-x_prev) > epsilon:  \n",
    "    x_prev = x_cur.clone()\n",
    "\n",
    "    value = f(x)\n",
    "    value.backward() \n",
    "    x.data -= eta * x.grad\n",
    "\n",
    "\n",
    "    x.grad.zero_()\n",
    "\n",
    "\n",
    "    x_cur = x.data\n",
    "\n",
    "    print(x_cur)"
   ]
  },
  {
   "cell_type": "code",
   "execution_count": 19,
   "id": "b4f3268c",
   "metadata": {},
   "outputs": [],
   "source": [
    "x_param = torch.nn.Parameter(torch.tensor([-3.5]), requires_grad=True)"
   ]
  },
  {
   "cell_type": "code",
   "execution_count": 20,
   "id": "9d3d4fbd",
   "metadata": {},
   "outputs": [],
   "source": [
    "optimizer = torch.optim.SGD([x_param], lr=eta)"
   ]
  },
  {
   "cell_type": "code",
   "execution_count": 21,
   "id": "7474d38a",
   "metadata": {},
   "outputs": [
    {
     "name": "stdout",
     "output_type": "stream",
     "text": [
      "tensor([2.0000])\n"
     ]
    }
   ],
   "source": [
    "for epoch in range(60): \n",
    "    optimizer.zero_grad()\n",
    "    loss_incurred = f(x_param) \n",
    "    loss_incurred.backward() \n",
    "    optimizer.step()\n",
    "print(x_param.data)"
   ]
  },
  {
   "cell_type": "code",
   "execution_count": 31,
   "id": "cca3f8ef",
   "metadata": {},
   "outputs": [
    {
     "name": "stdout",
     "output_type": "stream",
     "text": [
      "(70000, 784)\n"
     ]
    }
   ],
   "source": [
    "from torch.utils.data import Dataset\n",
    "from sklearn.datasets import fetch_openml\n",
    "\n",
    "X, y = fetch_openml('mnist_784', version=1, return_X_y=True)\n",
    "print(X.shape)"
   ]
  },
  {
   "cell_type": "code",
   "execution_count": 32,
   "id": "ea60b312",
   "metadata": {},
   "outputs": [],
   "source": [
    "class SimpleDataset(Dataset):\n",
    "    def __init__(self, X, y): \n",
    "        super(SimpleDataset, self).__init__()\n",
    "        self.X = X \n",
    "        self.y = y\n",
    "\n",
    "    def __getitem__(self, index): \n",
    "        inputs = torch.tensor(self.X[index,:], dtype=torch.float32)\n",
    "        targets = torch.tensor(int(self.y[index]), dtype=torch.int64) \n",
    "        return inputs, targets\n",
    "\n",
    "    def __len__(self): \n",
    "        return self.X.shape[0]\n",
    "    \n",
    "\n",
    "dataset = SimpleDataset(X, y)"
   ]
  },
  {
   "cell_type": "code",
   "execution_count": 33,
   "id": "3b8ce8b0",
   "metadata": {},
   "outputs": [
    {
     "name": "stdout",
     "output_type": "stream",
     "text": [
      "Length:  70000\n"
     ]
    },
    {
     "ename": "TypeError",
     "evalue": "'(0, slice(None, None, None))' is an invalid key",
     "output_type": "error",
     "traceback": [
      "\u001b[0;31m---------------------------------------------------------------------------\u001b[0m",
      "\u001b[0;31mTypeError\u001b[0m                                 Traceback (most recent call last)",
      "\u001b[0;32m/tmp/ipykernel_8299/2555854861.py\u001b[0m in \u001b[0;36m<module>\u001b[0;34m\u001b[0m\n\u001b[1;32m      1\u001b[0m \u001b[0mprint\u001b[0m\u001b[0;34m(\u001b[0m\u001b[0;34m\"Length: \"\u001b[0m\u001b[0;34m,\u001b[0m \u001b[0mlen\u001b[0m\u001b[0;34m(\u001b[0m\u001b[0mdataset\u001b[0m\u001b[0;34m)\u001b[0m\u001b[0;34m)\u001b[0m\u001b[0;34m\u001b[0m\u001b[0;34m\u001b[0m\u001b[0m\n\u001b[0;32m----> 2\u001b[0;31m \u001b[0mexample\u001b[0m\u001b[0;34m,\u001b[0m \u001b[0mlabel\u001b[0m \u001b[0;34m=\u001b[0m \u001b[0mdataset\u001b[0m\u001b[0;34m[\u001b[0m\u001b[0;36m0\u001b[0m\u001b[0;34m]\u001b[0m\u001b[0;34m\u001b[0m\u001b[0;34m\u001b[0m\u001b[0m\n\u001b[0m\u001b[1;32m      3\u001b[0m \u001b[0mprint\u001b[0m\u001b[0;34m(\u001b[0m\u001b[0;34m\"Features: \"\u001b[0m\u001b[0;34m,\u001b[0m \u001b[0mexample\u001b[0m\u001b[0;34m.\u001b[0m\u001b[0mshape\u001b[0m\u001b[0;34m)\u001b[0m\u001b[0;34m\u001b[0m\u001b[0;34m\u001b[0m\u001b[0m\n\u001b[1;32m      4\u001b[0m \u001b[0mprint\u001b[0m\u001b[0;34m(\u001b[0m\u001b[0;34m\"Label of index 0: \"\u001b[0m\u001b[0;34m,\u001b[0m \u001b[0mlabel\u001b[0m\u001b[0;34m)\u001b[0m\u001b[0;34m\u001b[0m\u001b[0;34m\u001b[0m\u001b[0m\n",
      "\u001b[0;32m/tmp/ipykernel_8299/1900449388.py\u001b[0m in \u001b[0;36m__getitem__\u001b[0;34m(self, index)\u001b[0m\n\u001b[1;32m      6\u001b[0m \u001b[0;34m\u001b[0m\u001b[0m\n\u001b[1;32m      7\u001b[0m     \u001b[0;32mdef\u001b[0m \u001b[0m__getitem__\u001b[0m\u001b[0;34m(\u001b[0m\u001b[0mself\u001b[0m\u001b[0;34m,\u001b[0m \u001b[0mindex\u001b[0m\u001b[0;34m)\u001b[0m\u001b[0;34m:\u001b[0m\u001b[0;34m\u001b[0m\u001b[0;34m\u001b[0m\u001b[0m\n\u001b[0;32m----> 8\u001b[0;31m         \u001b[0minputs\u001b[0m \u001b[0;34m=\u001b[0m \u001b[0mtorch\u001b[0m\u001b[0;34m.\u001b[0m\u001b[0mtensor\u001b[0m\u001b[0;34m(\u001b[0m\u001b[0mself\u001b[0m\u001b[0;34m.\u001b[0m\u001b[0mX\u001b[0m\u001b[0;34m[\u001b[0m\u001b[0mindex\u001b[0m\u001b[0;34m,\u001b[0m\u001b[0;34m:\u001b[0m\u001b[0;34m]\u001b[0m\u001b[0;34m,\u001b[0m \u001b[0mdtype\u001b[0m\u001b[0;34m=\u001b[0m\u001b[0mtorch\u001b[0m\u001b[0;34m.\u001b[0m\u001b[0mfloat32\u001b[0m\u001b[0;34m)\u001b[0m\u001b[0;34m\u001b[0m\u001b[0;34m\u001b[0m\u001b[0m\n\u001b[0m\u001b[1;32m      9\u001b[0m         \u001b[0mtargets\u001b[0m \u001b[0;34m=\u001b[0m \u001b[0mtorch\u001b[0m\u001b[0;34m.\u001b[0m\u001b[0mtensor\u001b[0m\u001b[0;34m(\u001b[0m\u001b[0mint\u001b[0m\u001b[0;34m(\u001b[0m\u001b[0mself\u001b[0m\u001b[0;34m.\u001b[0m\u001b[0my\u001b[0m\u001b[0;34m[\u001b[0m\u001b[0mindex\u001b[0m\u001b[0;34m]\u001b[0m\u001b[0;34m)\u001b[0m\u001b[0;34m,\u001b[0m \u001b[0mdtype\u001b[0m\u001b[0;34m=\u001b[0m\u001b[0mtorch\u001b[0m\u001b[0;34m.\u001b[0m\u001b[0mint64\u001b[0m\u001b[0;34m)\u001b[0m\u001b[0;34m\u001b[0m\u001b[0;34m\u001b[0m\u001b[0m\n\u001b[1;32m     10\u001b[0m         \u001b[0;32mreturn\u001b[0m \u001b[0minputs\u001b[0m\u001b[0;34m,\u001b[0m \u001b[0mtargets\u001b[0m\u001b[0;34m\u001b[0m\u001b[0;34m\u001b[0m\u001b[0m\n",
      "\u001b[0;32m~/miniconda3/envs/ML/lib/python3.9/site-packages/pandas/core/frame.py\u001b[0m in \u001b[0;36m__getitem__\u001b[0;34m(self, key)\u001b[0m\n\u001b[1;32m   3456\u001b[0m             \u001b[0;32mif\u001b[0m \u001b[0mself\u001b[0m\u001b[0;34m.\u001b[0m\u001b[0mcolumns\u001b[0m\u001b[0;34m.\u001b[0m\u001b[0mnlevels\u001b[0m \u001b[0;34m>\u001b[0m \u001b[0;36m1\u001b[0m\u001b[0;34m:\u001b[0m\u001b[0;34m\u001b[0m\u001b[0;34m\u001b[0m\u001b[0m\n\u001b[1;32m   3457\u001b[0m                 \u001b[0;32mreturn\u001b[0m \u001b[0mself\u001b[0m\u001b[0;34m.\u001b[0m\u001b[0m_getitem_multilevel\u001b[0m\u001b[0;34m(\u001b[0m\u001b[0mkey\u001b[0m\u001b[0;34m)\u001b[0m\u001b[0;34m\u001b[0m\u001b[0;34m\u001b[0m\u001b[0m\n\u001b[0;32m-> 3458\u001b[0;31m             \u001b[0mindexer\u001b[0m \u001b[0;34m=\u001b[0m \u001b[0mself\u001b[0m\u001b[0;34m.\u001b[0m\u001b[0mcolumns\u001b[0m\u001b[0;34m.\u001b[0m\u001b[0mget_loc\u001b[0m\u001b[0;34m(\u001b[0m\u001b[0mkey\u001b[0m\u001b[0;34m)\u001b[0m\u001b[0;34m\u001b[0m\u001b[0;34m\u001b[0m\u001b[0m\n\u001b[0m\u001b[1;32m   3459\u001b[0m             \u001b[0;32mif\u001b[0m \u001b[0mis_integer\u001b[0m\u001b[0;34m(\u001b[0m\u001b[0mindexer\u001b[0m\u001b[0;34m)\u001b[0m\u001b[0;34m:\u001b[0m\u001b[0;34m\u001b[0m\u001b[0;34m\u001b[0m\u001b[0m\n\u001b[1;32m   3460\u001b[0m                 \u001b[0mindexer\u001b[0m \u001b[0;34m=\u001b[0m \u001b[0;34m[\u001b[0m\u001b[0mindexer\u001b[0m\u001b[0;34m]\u001b[0m\u001b[0;34m\u001b[0m\u001b[0;34m\u001b[0m\u001b[0m\n",
      "\u001b[0;32m~/miniconda3/envs/ML/lib/python3.9/site-packages/pandas/core/indexes/base.py\u001b[0m in \u001b[0;36mget_loc\u001b[0;34m(self, key, method, tolerance)\u001b[0m\n\u001b[1;32m   3359\u001b[0m             \u001b[0mcasted_key\u001b[0m \u001b[0;34m=\u001b[0m \u001b[0mself\u001b[0m\u001b[0;34m.\u001b[0m\u001b[0m_maybe_cast_indexer\u001b[0m\u001b[0;34m(\u001b[0m\u001b[0mkey\u001b[0m\u001b[0;34m)\u001b[0m\u001b[0;34m\u001b[0m\u001b[0;34m\u001b[0m\u001b[0m\n\u001b[1;32m   3360\u001b[0m             \u001b[0;32mtry\u001b[0m\u001b[0;34m:\u001b[0m\u001b[0;34m\u001b[0m\u001b[0;34m\u001b[0m\u001b[0m\n\u001b[0;32m-> 3361\u001b[0;31m                 \u001b[0;32mreturn\u001b[0m \u001b[0mself\u001b[0m\u001b[0;34m.\u001b[0m\u001b[0m_engine\u001b[0m\u001b[0;34m.\u001b[0m\u001b[0mget_loc\u001b[0m\u001b[0;34m(\u001b[0m\u001b[0mcasted_key\u001b[0m\u001b[0;34m)\u001b[0m\u001b[0;34m\u001b[0m\u001b[0;34m\u001b[0m\u001b[0m\n\u001b[0m\u001b[1;32m   3362\u001b[0m             \u001b[0;32mexcept\u001b[0m \u001b[0mKeyError\u001b[0m \u001b[0;32mas\u001b[0m \u001b[0merr\u001b[0m\u001b[0;34m:\u001b[0m\u001b[0;34m\u001b[0m\u001b[0;34m\u001b[0m\u001b[0m\n\u001b[1;32m   3363\u001b[0m                 \u001b[0;32mraise\u001b[0m \u001b[0mKeyError\u001b[0m\u001b[0;34m(\u001b[0m\u001b[0mkey\u001b[0m\u001b[0;34m)\u001b[0m \u001b[0;32mfrom\u001b[0m \u001b[0merr\u001b[0m\u001b[0;34m\u001b[0m\u001b[0;34m\u001b[0m\u001b[0m\n",
      "\u001b[0;32m~/miniconda3/envs/ML/lib/python3.9/site-packages/pandas/_libs/index.pyx\u001b[0m in \u001b[0;36mpandas._libs.index.IndexEngine.get_loc\u001b[0;34m()\u001b[0m\n",
      "\u001b[0;32m~/miniconda3/envs/ML/lib/python3.9/site-packages/pandas/_libs/index.pyx\u001b[0m in \u001b[0;36mpandas._libs.index.IndexEngine.get_loc\u001b[0;34m()\u001b[0m\n",
      "\u001b[0;31mTypeError\u001b[0m: '(0, slice(None, None, None))' is an invalid key"
     ]
    }
   ],
   "source": [
    "print(\"Length: \", len(dataset)) \n",
    "example, label = dataset[0]\n",
    "print(\"Features: \", example.shape)\n",
    "print(\"Label of index 0: \", label) \n"
   ]
  },
  {
   "cell_type": "code",
   "execution_count": null,
   "id": "0e47b791",
   "metadata": {},
   "outputs": [],
   "source": []
  }
 ],
 "metadata": {
  "kernelspec": {
   "display_name": "Python 3 (ipykernel)",
   "language": "python",
   "name": "python3"
  },
  "language_info": {
   "codemirror_mode": {
    "name": "ipython",
    "version": 3
   },
   "file_extension": ".py",
   "mimetype": "text/x-python",
   "name": "python",
   "nbconvert_exporter": "python",
   "pygments_lexer": "ipython3",
   "version": "3.9.7"
  }
 },
 "nbformat": 4,
 "nbformat_minor": 5
}
